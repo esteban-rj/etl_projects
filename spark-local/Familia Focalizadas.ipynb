{
 "cells": [
  {
   "cell_type": "code",
   "execution_count": 5,
   "id": "387d576b-1726-43a5-b7a5-c23c07f6d61a",
   "metadata": {},
   "outputs": [],
   "source": [
    "from pyspark.sql import SparkSession"
   ]
  },
  {
   "cell_type": "code",
   "execution_count": 9,
   "id": "47a49219-9f0f-430e-9c2c-735bd8fc37c0",
   "metadata": {},
   "outputs": [
    {
     "name": "stdout",
     "output_type": "stream",
     "text": [
      "root\n",
      " |-- Bancarizado: string (nullable = true)\n",
      " |-- CodigoDepartamentoAtencion: string (nullable = true)\n",
      " |-- CodigoMunicipioAtencion: string (nullable = true)\n",
      " |-- Discapacidad: string (nullable = true)\n",
      " |-- EstadoBeneficiario: string (nullable = true)\n",
      " |-- Etnia: string (nullable = true)\n",
      " |-- FechaInscripcionBeneficiario: string (nullable = true)\n",
      " |-- Genero: string (nullable = true)\n",
      " |-- NivelEscolaridad: string (nullable = true)\n",
      " |-- NombreDepartamentoAtencion: string (nullable = true)\n",
      " |-- NombreMunicipioAtencion: string (nullable = true)\n",
      " |-- Pais: string (nullable = true)\n",
      " |-- TipoAsignacionBeneficio: string (nullable = true)\n",
      " |-- TipoBeneficio: string (nullable = true)\n",
      " |-- TipoDocumento: string (nullable = true)\n",
      " |-- TipoPoblacion: string (nullable = true)\n",
      " |-- RangoBeneficioConsolidadoAsignado: string (nullable = true)\n",
      " |-- RangoUltimoBeneficioAsignado: string (nullable = true)\n",
      " |-- FechaUltimoBeneficioAsignado: string (nullable = true)\n",
      " |-- RangoEdad: string (nullable = true)\n",
      " |-- Titular: string (nullable = true)\n",
      " |-- CantidadDeBeneficiarios: string (nullable = true)\n",
      "\n"
     ]
    }
   ],
   "source": [
    "spark = SparkSession.builder.appName(\n",
    "    'Read CSV File into DataFrame').getOrCreate()\n",
    "\n",
    "df = spark.read.csv(\"./familiasEnAccion.csv\", header=True)\n",
    "df.printSchema()"
   ]
  },
  {
   "cell_type": "code",
   "execution_count": 12,
   "id": "71b5f1c6-8c21-4bd8-bedd-42bcdd3fb867",
   "metadata": {},
   "outputs": [
    {
     "name": "stdout",
     "output_type": "stream",
     "text": [
      "+-------------+-----+\n",
      "|TipoPoblacion|count|\n",
      "+-------------+-----+\n",
      "|       SISBEN| 2559|\n",
      "|           ND|  453|\n",
      "|  DESPLAZADOS|  993|\n",
      "|       UNIDOS| 1538|\n",
      "+-------------+-----+\n",
      "\n"
     ]
    }
   ],
   "source": [
    "df.groupBy(\"TipoPoblacion\").count().show()"
   ]
  },
  {
   "cell_type": "code",
   "execution_count": 13,
   "id": "fb875707-fe00-447e-8341-04afd1036961",
   "metadata": {},
   "outputs": [
    {
     "name": "stdout",
     "output_type": "stream",
     "text": [
      "+--------------------+-----+\n",
      "|       TipoBeneficio|count|\n",
      "+--------------------+-----+\n",
      "|EDUCACIÓN PRIMARI...|   15|\n",
      "|     NUTRICIÓN MENOR|  223|\n",
      "|  EDUCACIÓN PRIMARIA|  232|\n",
      "|          TRANSICIÓN|   20|\n",
      "|                  ND| 3917|\n",
      "|EDUCACIÓN SECUNDARIA|  203|\n",
      "|           NUTRICIÓN|  846|\n",
      "|TRANSICIÓNNUTRICI...|   87|\n",
      "+--------------------+-----+\n",
      "\n"
     ]
    }
   ],
   "source": [
    "df.groupBy(\"TipoBeneficio\").count().show()"
   ]
  },
  {
   "cell_type": "code",
   "execution_count": 14,
   "id": "45f436f2-e7ea-449c-997a-b5dbabdc8940",
   "metadata": {},
   "outputs": [
    {
     "name": "stdout",
     "output_type": "stream",
     "text": [
      "+---------+-----+\n",
      "|RangoEdad|count|\n",
      "+---------+-----+\n",
      "|    30-49| 2939|\n",
      "|      >65|  161|\n",
      "|    06-17|  649|\n",
      "|    50-65| 1133|\n",
      "|    18-29|  661|\n",
      "+---------+-----+\n",
      "\n"
     ]
    }
   ],
   "source": [
    "df.groupBy(\"RangoEdad\").count().show()"
   ]
  },
  {
   "cell_type": "code",
   "execution_count": 17,
   "id": "65aa9c72-4191-47a6-90f7-fe4d1aae97eb",
   "metadata": {},
   "outputs": [
    {
     "name": "stdout",
     "output_type": "stream",
     "text": [
      "+---------+-----+\n",
      "|RangoEdad|count|\n",
      "+---------+-----+\n",
      "|    30-49| 1585|\n",
      "|      >65|   66|\n",
      "|    06-17|  235|\n",
      "|    50-65|  463|\n",
      "|    18-29|  210|\n",
      "+---------+-----+\n",
      "\n"
     ]
    }
   ],
   "source": [
    "from pyspark.sql.functions import col\n",
    "df.where(col(\"TipoPoblacion\") == \"SISBEN\").groupBy(\"RangoEdad\").count().show()"
   ]
  },
  {
   "cell_type": "code",
   "execution_count": null,
   "id": "4ca6199b-94ad-4e2c-ade6-595545b5e335",
   "metadata": {},
   "outputs": [],
   "source": []
  }
 ],
 "metadata": {
  "kernelspec": {
   "display_name": "Python 3 (ipykernel)",
   "language": "python",
   "name": "python3"
  },
  "language_info": {
   "codemirror_mode": {
    "name": "ipython",
    "version": 3
   },
   "file_extension": ".py",
   "mimetype": "text/x-python",
   "name": "python",
   "nbconvert_exporter": "python",
   "pygments_lexer": "ipython3",
   "version": "3.11.6"
  }
 },
 "nbformat": 4,
 "nbformat_minor": 5
}
